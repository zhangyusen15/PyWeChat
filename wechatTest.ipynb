{
 "cells": [
  {
   "cell_type": "code",
   "execution_count": null,
   "metadata": {
    "collapsed": true
   },
   "outputs": [
    {
     "name": "stdout",
     "output_type": "stream",
     "text": [
      "█\r"
     ]
    }
   ],
   "source": [
    "import itchat"
   ]
  },
  {
   "cell_type": "code",
   "execution_count": null,
   "metadata": {},
   "outputs": [
    {
     "name": "stderr",
     "output_type": "stream",
     "text": [
      "Getting uuid of QR code.\n"
     ]
    },
    {
     "name": "stderr",
     "output_type": "stream",
     "text": [
      "Downloading QR code.\n"
     ]
    },
    {
     "name": "stderr",
     "output_type": "stream",
     "text": [
      "Please scan the QR code to log in.\n"
     ]
    },
    {
     "name": "stderr",
     "output_type": "stream",
     "text": [
      "Please press confirm on your phone.\n"
     ]
    },
    {
     "name": "stderr",
     "output_type": "stream",
     "text": [
      "Loading the contact, this may take a little while.\n"
     ]
    },
    {
     "name": "stderr",
     "output_type": "stream",
     "text": [
      "Login successfully as Isak ®\n"
     ]
    }
   ],
   "source": [
    "itchat.auto_login(hotReload=True)"
   ]
  },
  {
   "cell_type": "code",
   "execution_count": 4,
   "metadata": {},
   "outputs": [],
   "source": [
    "# get the list of friends\n",
    "friends = itchat.get_friends(update=True) "
   ]
  },
  {
   "cell_type": "code",
   "execution_count": 5,
   "metadata": {},
   "outputs": [
    {
     "data": {
      "text/plain": [
       "<ItchatReturnValue: {u'MsgID': u'4421511270022359234', u'LocalID': u'15602253479130', u'BaseResponse': {u'ErrMsg': u'\\u8bf7\\u6c42\\u6210\\u529f', u'Ret': 0, 'RawMsg': u'\\u8bf7\\u6c42\\u6210\\u529f'}}>"
      ]
     },
     "execution_count": 5,
     "metadata": {},
     "output_type": "execute_result"
    }
   ],
   "source": [
    "# send text to user\n",
    "for i in friends:\n",
    "    if i[\"NickName\"]==u\"趣\":\n",
    "        uname = i[u\"UserName\"]\n",
    "        \n",
    "word = u\"今天热不热\"\n",
    "itchat.send(word,toUserName=uname)"
   ]
  },
  {
   "cell_type": "code",
   "execution_count": 3,
   "metadata": {},
   "outputs": [],
   "source": [
    "# Auto response\n",
    "def text_reply():\n",
    "    return\n",
    "\n",
    "@itchat.msg_register(itchat.content.TEXT)\n",
    "def text_reply(msg):\n",
    "    print msg.Text\n",
    "    if msg.User[\"NickName\"]==u\"趣\":         # response to certain user\n",
    "        if \"250\" in msg.Text:               # if we get certain info\n",
    "            return u\"我也想你啦[Kiss]\"\n",
    "        elif \"251\" in msg.Text:\n",
    "            return u\"1\"\n",
    "        elif u\"呵\" in msg.Text:\n",
    "            return u\"不许呵！[Kiss]\"\n",
    "        elif u\"[Trick]\" in msg.Text:\n",
    "            return u\"[Trick][Trick][Trick]\"\n",
    "        elif u\"[Smirk]\" in msg.Text:\n",
    "            return u\"[Smirk][Smirk][Smirk]\"\n",
    "        elif u\"午安\" in msg.Text:\n",
    "            return u\"午安[Kiss]\""
   ]
  },
  {
   "cell_type": "code",
   "execution_count": 4,
   "metadata": {},
   "outputs": [
    {
     "name": "stderr",
     "output_type": "stream",
     "text": [
      "Start auto replying.\n"
     ]
    },
    {
     "name": "stdout",
     "output_type": "stream",
     "text": [
      "下次我故意一下[Smirk]\n"
     ]
    },
    {
     "name": "stdout",
     "output_type": "stream",
     "text": [
      "以前从来没有中午给我发过语音\n"
     ]
    },
    {
     "name": "stdout",
     "output_type": "stream",
     "text": [
      "谁信啊\n"
     ]
    },
    {
     "name": "stdout",
     "output_type": "stream",
     "text": [
      "切\n"
     ]
    },
    {
     "name": "stdout",
     "output_type": "stream",
     "text": [
      "哈哈哈真是巧\n"
     ]
    },
    {
     "name": "stdout",
     "output_type": "stream",
     "text": [
      "哈哈哈你肯定故意的\n"
     ]
    },
    {
     "name": "stdout",
     "output_type": "stream",
     "text": [
      "哎呀我们连基本的信任都没有了吗，我有这么坏嘛\n"
     ]
    },
    {
     "name": "stdout",
     "output_type": "stream",
     "text": [
      "你有吧\n"
     ]
    },
    {
     "name": "stdout",
     "output_type": "stream",
     "text": [
      "我有吗\n"
     ]
    },
    {
     "name": "stdout",
     "output_type": "stream",
     "text": [
      "你有\n"
     ]
    },
    {
     "name": "stdout",
     "output_type": "stream",
     "text": [
      "有吗\n"
     ]
    },
    {
     "name": "stdout",
     "output_type": "stream",
     "text": [
      "冇\n"
     ]
    },
    {
     "name": "stdout",
     "output_type": "stream",
     "text": [
      "呸\n"
     ]
    },
    {
     "name": "stdout",
     "output_type": "stream",
     "text": [
      "这是什么字\n"
     ]
    },
    {
     "name": "stdout",
     "output_type": "stream",
     "text": [
      "没文化\n"
     ]
    },
    {
     "name": "stdout",
     "output_type": "stream",
     "text": [
      "张老师教教我\n"
     ]
    },
    {
     "name": "stdout",
     "output_type": "stream",
     "text": [
      "有\n"
     ]
    },
    {
     "name": "stdout",
     "output_type": "stream",
     "text": [
      "哼\n"
     ]
    },
    {
     "name": "stdout",
     "output_type": "stream",
     "text": [
      "你不乖\n"
     ]
    },
    {
     "name": "stdout",
     "output_type": "stream",
     "text": [
      "我还不乖？打排位这么重要的时刻我都能接你电话，你还要怎样\n"
     ]
    },
    {
     "name": "stdout",
     "output_type": "stream",
     "text": [
      "呸，以后我就直接挂掉！\n"
     ]
    },
    {
     "name": "stdout",
     "output_type": "stream",
     "text": [
      "你不信任我，我不是故意的[Wronged][Wronged]\n"
     ]
    },
    {
     "name": "stdout",
     "output_type": "stream",
     "text": [
      "看吧说出了自己的真实心声\n"
     ]
    },
    {
     "name": "stdout",
     "output_type": "stream",
     "text": [
      "[Smug][Smug]\n"
     ]
    },
    {
     "name": "stdout",
     "output_type": "stream",
     "text": [
      "那你还不接我电话。还静音\n"
     ]
    },
    {
     "name": "stdout",
     "output_type": "stream",
     "text": [
      "我哪知道你会打电话嘛\n"
     ]
    },
    {
     "name": "stdout",
     "output_type": "stream",
     "text": [
      "我这么配合的，一听你在排位，立马挂了对不\n"
     ]
    },
    {
     "name": "stdout",
     "output_type": "stream",
     "text": [
      "你挂了都不等我电话\n"
     ]
    },
    {
     "name": "stdout",
     "output_type": "stream",
     "text": [
      "我上课了哦\n"
     ]
    },
    {
     "name": "stdout",
     "output_type": "stream",
     "text": [
      "好！\n"
     ]
    },
    {
     "name": "stdout",
     "output_type": "stream",
     "text": [
      "嗨\n"
     ]
    },
    {
     "name": "stdout",
     "output_type": "stream",
     "text": [
      "我下课啦\n"
     ]
    },
    {
     "name": "stdout",
     "output_type": "stream",
     "text": [
      "[Trick][Trick][Trick]\n"
     ]
    },
    {
     "name": "stdout",
     "output_type": "stream",
     "text": [
      "[Sly][Sly][Sly]\n"
     ]
    },
    {
     "name": "stdout",
     "output_type": "stream",
     "text": [
      "[Trick][Trick][Trick]\n"
     ]
    },
    {
     "name": "stdout",
     "output_type": "stream",
     "text": [
      "[Sly][Sly][Sly]\n"
     ]
    },
    {
     "name": "stdout",
     "output_type": "stream",
     "text": [
      "[Trick][Trick][Trick]\n"
     ]
    },
    {
     "name": "stdout",
     "output_type": "stream",
     "text": [
      "[Sly][Sly][Sly]\n"
     ]
    },
    {
     "name": "stdout",
     "output_type": "stream",
     "text": [
      "[Trick][Trick][Trick]\n"
     ]
    },
    {
     "name": "stdout",
     "output_type": "stream",
     "text": [
      "[Sly][Sly][Sly]\n"
     ]
    },
    {
     "name": "stdout",
     "output_type": "stream",
     "text": [
      "[Sly][Sly][Sly]\n"
     ]
    },
    {
     "name": "stdout",
     "output_type": "stream",
     "text": [
      "[Trick][Trick][Trick]\n"
     ]
    },
    {
     "name": "stdout",
     "output_type": "stream",
     "text": [
      "[Sly][Sly][Sly]\n"
     ]
    },
    {
     "name": "stdout",
     "output_type": "stream",
     "text": [
      "[Sly][Sly][Sly]\n"
     ]
    },
    {
     "name": "stdout",
     "output_type": "stream",
     "text": [
      "[Trick][Trick][Trick]\n"
     ]
    },
    {
     "name": "stdout",
     "output_type": "stream",
     "text": [
      "[Sly][Sly][Sly]\n"
     ]
    },
    {
     "name": "stdout",
     "output_type": "stream",
     "text": [
      "[Trick][Trick][Trick]\n"
     ]
    },
    {
     "name": "stdout",
     "output_type": "stream",
     "text": [
      "[Sly][Sly][Sly]\n"
     ]
    },
    {
     "name": "stdout",
     "output_type": "stream",
     "text": [
      "[Smirk][Smirk][Smirk]\n"
     ]
    },
    {
     "name": "stdout",
     "output_type": "stream",
     "text": [
      "[Smart][Smart][Smart]\n"
     ]
    },
    {
     "name": "stdout",
     "output_type": "stream",
     "text": [
      "[Kiss][Kiss][Kiss]\n"
     ]
    },
    {
     "name": "stdout",
     "output_type": "stream",
     "text": [
      "[Joyful][Joyful][Joyful]\n"
     ]
    },
    {
     "name": "stdout",
     "output_type": "stream",
     "text": [
      "[Trick][Trick][Trick]\n"
     ]
    },
    {
     "name": "stdout",
     "output_type": "stream",
     "text": [
      "[Sly][Sly][Sly]\n"
     ]
    },
    {
     "name": "stdout",
     "output_type": "stream",
     "text": [
      "[Sly][Sly][Sly]\n"
     ]
    },
    {
     "name": "stdout",
     "output_type": "stream",
     "text": [
      "[Trick][Trick][Trick]\n"
     ]
    },
    {
     "name": "stdout",
     "output_type": "stream",
     "text": [
      "[Sly][Sly][Sly]\n"
     ]
    },
    {
     "name": "stdout",
     "output_type": "stream",
     "text": [
      "[Sly][Sly][Sly]\n"
     ]
    },
    {
     "name": "stdout",
     "output_type": "stream",
     "text": [
      "编的我头疼的\n"
     ]
    },
    {
     "name": "stdout",
     "output_type": "stream",
     "text": [
      "啥？\n"
     ]
    },
    {
     "name": "stdout",
     "output_type": "stream",
     "text": [
      "剪纸\n"
     ]
    },
    {
     "name": "stdout",
     "output_type": "stream",
     "text": [
      "在画稿子\n"
     ]
    },
    {
     "name": "stdout",
     "output_type": "stream",
     "text": [
      "好好画\n"
     ]
    },
    {
     "name": "stdout",
     "output_type": "stream",
     "text": [
      "不要\n"
     ]
    },
    {
     "name": "stdout",
     "output_type": "stream",
     "text": [
      "我要和你玩\n"
     ]
    },
    {
     "name": "stdout",
     "output_type": "stream",
     "text": [
      "不和你玩\n"
     ]
    },
    {
     "name": "stdout",
     "output_type": "stream",
     "text": [
      "为啥呀\n"
     ]
    },
    {
     "name": "stdout",
     "output_type": "stream",
     "text": [
      "在外面\n"
     ]
    },
    {
     "name": "stdout",
     "output_type": "stream",
     "text": [
      "哦，干嘛去了\n"
     ]
    },
    {
     "name": "stdout",
     "output_type": "stream",
     "text": [
      "八里桥\n"
     ]
    },
    {
     "name": "stdout",
     "output_type": "stream",
     "text": [
      "干嘛去了？\n"
     ]
    },
    {
     "name": "stdout",
     "output_type": "stream",
     "text": [
      "浪\n"
     ]
    },
    {
     "name": "stdout",
     "output_type": "stream",
     "text": [
      "你到那浪什么\n"
     ]
    },
    {
     "name": "stdout",
     "output_type": "stream",
     "text": [
      "要下雨了，你还浪呢\n"
     ]
    },
    {
     "name": "stdout",
     "output_type": "stream",
     "text": [
      "车里\n"
     ]
    },
    {
     "name": "stdout",
     "output_type": "stream",
     "text": [
      "你和谁\n"
     ]
    },
    {
     "name": "stdout",
     "output_type": "stream",
     "text": [
      "小姐姐\n"
     ]
    },
    {
     "name": "stdout",
     "output_type": "stream",
     "text": [
      "不开心\n"
     ]
    },
    {
     "name": "stdout",
     "output_type": "stream",
     "text": [
      "[Frown]\n"
     ]
    },
    {
     "name": "stdout",
     "output_type": "stream",
     "text": [
      "我开心啊[Sly]\n"
     ]
    },
    {
     "name": "stdout",
     "output_type": "stream",
     "text": [
      "[Pout]\n"
     ]
    },
    {
     "name": "stdout",
     "output_type": "stream",
     "text": [
      "[Pout][Pout][Pout][Pout]\n"
     ]
    },
    {
     "name": "stdout",
     "output_type": "stream",
     "text": [
      "呸\n"
     ]
    },
    {
     "name": "stdout",
     "output_type": "stream",
     "text": [
      "好开心呀！\n"
     ]
    },
    {
     "name": "stdout",
     "output_type": "stream",
     "text": [
      "[Trick][Trick][Trick]\n"
     ]
    },
    {
     "name": "stdout",
     "output_type": "stream",
     "text": [
      "好大的雨啊\n"
     ]
    },
    {
     "name": "stdout",
     "output_type": "stream",
     "text": [
      "哼老天对你的惩罚\n"
     ]
    },
    {
     "name": "stdout",
     "output_type": "stream",
     "text": [
      "把你两个下路上\n"
     ]
    },
    {
     "name": "stdout",
     "output_type": "stream",
     "text": [
      "让你撩小姐姐\n"
     ]
    },
    {
     "name": "stdout",
     "output_type": "stream",
     "text": [
      "下路上那不就………………\n"
     ]
    },
    {
     "name": "stdout",
     "output_type": "stream",
     "text": [
      "不就合了你的心意了\n"
     ]
    },
    {
     "name": "stdout",
     "output_type": "stream",
     "text": [
      "对啊\n"
     ]
    },
    {
     "name": "stdout",
     "output_type": "stream",
     "text": [
      "我不管，我要看小姐姐\n"
     ]
    },
    {
     "name": "stdout",
     "output_type": "stream",
     "text": [
      "[Smug]给我拍\n"
     ]
    },
    {
     "name": "stdout",
     "output_type": "stream",
     "text": [
      "[Scold][Scold][Scold][Scold][Scold][Scold][Scold][Scold]\n"
     ]
    },
    {
     "name": "stdout",
     "output_type": "stream",
     "text": [
      "你给我删了\n"
     ]
    },
    {
     "name": "stdout",
     "output_type": "stream",
     "text": [
      "[Panic][Panic][Panic][Panic][Panic][Panic][Panic]\n"
     ]
    },
    {
     "name": "stdout",
     "output_type": "stream",
     "text": [
      "嘎哈哈哈哈哈哈哈哈\n"
     ]
    },
    {
     "name": "stdout",
     "output_type": "stream",
     "text": [
      "我要打死你\n"
     ]
    },
    {
     "name": "stdout",
     "output_type": "stream",
     "text": [
      "我要打死你\n"
     ]
    },
    {
     "name": "stdout",
     "output_type": "stream",
     "text": [
      "[Wave][Wave][Wave][Wave][Wave][Wave][Wave][Wave][Wave][Wave][Wave]\n"
     ]
    },
    {
     "name": "stdout",
     "output_type": "stream",
     "text": [
      "删了删了\n"
     ]
    },
    {
     "name": "stdout",
     "output_type": "stream",
     "text": [
      "赶紧\n"
     ]
    },
    {
     "name": "stdout",
     "output_type": "stream",
     "text": [
      "我要看这会在你旁边的小姐姐\n"
     ]
    },
    {
     "name": "stdout",
     "output_type": "stream",
     "text": [
      "[Wave]\n"
     ]
    },
    {
     "name": "stdout",
     "output_type": "stream",
     "text": [
      "好好浪[Wave]\n"
     ]
    },
    {
     "name": "stdout",
     "output_type": "stream",
     "text": [
      "好[Trick]\n"
     ]
    },
    {
     "name": "stdout",
     "output_type": "stream",
     "text": [
      "觉得这个怎么样？\n"
     ]
    },
    {
     "name": "stdout",
     "output_type": "stream",
     "text": [
      "………\n"
     ]
    },
    {
     "name": "stdout",
     "output_type": "stream",
     "text": [
      "不好？\n"
     ]
    },
    {
     "name": "stdout",
     "output_type": "stream",
     "text": [
      "…………我不想回答这个问题，我也不想理你\n"
     ]
    },
    {
     "name": "stdout",
     "output_type": "stream",
     "text": [
      "为啥不想理我？\n"
     ]
    },
    {
     "name": "stdout",
     "output_type": "stream",
     "text": [
      "因为我不开心[Smug]\n"
     ]
    },
    {
     "name": "stdout",
     "output_type": "stream",
     "text": [
      "为啥？\n"
     ]
    },
    {
     "name": "stdout",
     "output_type": "stream",
     "text": [
      "我逗你的，没有小姐姐\n"
     ]
    },
    {
     "name": "stdout",
     "output_type": "stream",
     "text": [
      "[Grimace]真的吗\n"
     ]
    },
    {
     "name": "stdout",
     "output_type": "stream",
     "text": [
      "真的\n"
     ]
    },
    {
     "name": "stdout",
     "output_type": "stream",
     "text": [
      "[Joyful][Joyful][Kiss]哼\n"
     ]
    },
    {
     "name": "stdout",
     "output_type": "stream",
     "text": [
      "下班了吗？\n"
     ]
    },
    {
     "name": "stdout",
     "output_type": "stream",
     "text": [
      "嗯刚下\n"
     ]
    },
    {
     "name": "stdout",
     "output_type": "stream",
     "text": [
      "雨也停了，老天多照顾我\n"
     ]
    },
    {
     "name": "stdout",
     "output_type": "stream",
     "text": [
      "哼就不照顾你\n"
     ]
    },
    {
     "name": "stdout",
     "output_type": "stream",
     "text": [
      "也照顾了啊\n"
     ]
    },
    {
     "name": "stdout",
     "output_type": "stream",
     "text": [
      "我跟小姐姐雨中………\n"
     ]
    },
    {
     "name": "stdout",
     "output_type": "stream",
     "text": [
      "你继续\n"
     ]
    },
    {
     "name": "stdout",
     "output_type": "stream",
     "text": [
      "好嘞\n"
     ]
    },
    {
     "name": "stdout",
     "output_type": "stream",
     "text": [
      "回去了吗？\n"
     ]
    },
    {
     "name": "stdout",
     "output_type": "stream",
     "text": [
      "嗯，你干嘛呢\n"
     ]
    },
    {
     "name": "stdout",
     "output_type": "stream",
     "text": [
      "吃饭了吗？\n"
     ]
    },
    {
     "name": "stdout",
     "output_type": "stream",
     "text": [
      "在吃\n"
     ]
    },
    {
     "name": "stdout",
     "output_type": "stream",
     "text": [
      "你咋吃？\n"
     ]
    },
    {
     "name": "stdout",
     "output_type": "stream",
     "text": [
      "吃的啥？\n"
     ]
    },
    {
     "name": "stdout",
     "output_type": "stream",
     "text": [
      "凉面\n"
     ]
    },
    {
     "name": "stdout",
     "output_type": "stream",
     "text": [
      "自己做的？\n"
     ]
    },
    {
     "name": "stdout",
     "output_type": "stream",
     "text": [
      "没有\n"
     ]
    },
    {
     "name": "stdout",
     "output_type": "stream",
     "text": [
      "你吃了嘛\n"
     ]
    },
    {
     "name": "stdout",
     "output_type": "stream",
     "text": [
      "吃了\n"
     ]
    },
    {
     "name": "stdout",
     "output_type": "stream",
     "text": [
      "晚上干嘛？\n"
     ]
    },
    {
     "name": "stdout",
     "output_type": "stream",
     "text": [
      "这么快？\n"
     ]
    },
    {
     "name": "stdout",
     "output_type": "stream",
     "text": [
      "应该会画图\n"
     ]
    },
    {
     "name": "stdout",
     "output_type": "stream",
     "text": [
      "画什么图？\n"
     ]
    },
    {
     "name": "stdout",
     "output_type": "stream",
     "text": [
      "剪纸底稿\n"
     ]
    },
    {
     "name": "stdout",
     "output_type": "stream",
     "text": [
      "噢噢。那我能在你边上静静地看你画吗？\n"
     ]
    },
    {
     "name": "stdout",
     "output_type": "stream",
     "text": [
      "我妈要过来[Facepalm]\n"
     ]
    },
    {
     "name": "stdout",
     "output_type": "stream",
     "text": [
      "好多天没见你了\n"
     ]
    },
    {
     "name": "stdout",
     "output_type": "stream",
     "text": [
      "就是😔\n"
     ]
    },
    {
     "name": "stdout",
     "output_type": "stream",
     "text": [
      "不想吗你？\n"
     ]
    },
    {
     "name": "stdout",
     "output_type": "stream",
     "text": [
      "250\n"
     ]
    },
    {
     "name": "stdout",
     "output_type": "stream",
     "text": [
      "251\n"
     ]
    },
    {
     "name": "stdout",
     "output_type": "stream",
     "text": [
      "还有什么可以补充的吗\n"
     ]
    },
    {
     "name": "stdout",
     "output_type": "stream",
     "text": [
      "这是dell的人写的？\n"
     ]
    },
    {
     "name": "stdout",
     "output_type": "stream",
     "text": [
      "这是他们写了之后我总结的\n"
     ]
    },
    {
     "name": "stdout",
     "output_type": "stream",
     "text": [
      "就看原厂整机直发这一条能不能过了\n"
     ]
    },
    {
     "name": "stdout",
     "output_type": "stream",
     "text": [
      "代理可以提供增值服务吗？\n"
     ]
    },
    {
     "name": "stdout",
     "output_type": "stream",
     "text": [
      "原厂整机直发是不是也就限定了渠道\n"
     ]
    },
    {
     "name": "stdout",
     "output_type": "stream",
     "text": [
      "可以\n"
     ]
    },
    {
     "name": "stdout",
     "output_type": "stream",
     "text": [
      "代理有授权\n"
     ]
    },
    {
     "name": "stdout",
     "output_type": "stream",
     "text": [
      "噢噢，那应该可以吧\n"
     ]
    },
    {
     "name": "stdout",
     "output_type": "stream",
     "text": [
      "如何检测是否原厂，是不是要写明一下？\n"
     ]
    },
    {
     "name": "stdout",
     "output_type": "stream",
     "text": [
      "用序列号吗\n"
     ]
    },
    {
     "name": "stdout",
     "output_type": "stream",
     "text": [
      "比如序列号可查什么的\n"
     ]
    },
    {
     "name": "stdout",
     "output_type": "stream",
     "text": [
      "嗯嗯\n"
     ]
    },
    {
     "name": "stdout",
     "output_type": "stream",
     "text": [
      "他是这么给我写的\n"
     ]
    },
    {
     "name": "stdout",
     "output_type": "stream",
     "text": [
      "保修后面是不是要加上那个\"官网可查询\"\"\n这样？\n"
     ]
    },
    {
     "name": "stdout",
     "output_type": "stream",
     "text": [
      "对\n"
     ]
    },
    {
     "name": "stdout",
     "output_type": "stream",
     "text": [
      "哪个保修后面？\n"
     ]
    },
    {
     "name": "stdout",
     "output_type": "stream",
     "text": [
      "就你加的这个\n"
     ]
    },
    {
     "name": "stdout",
     "output_type": "stream",
     "text": [
      "差不多了吧\n"
     ]
    },
    {
     "name": "stdout",
     "output_type": "stream",
     "text": [
      "嘛呢？\n"
     ]
    },
    {
     "name": "stdout",
     "output_type": "stream",
     "text": [
      "好的，\n"
     ]
    },
    {
     "name": "stdout",
     "output_type": "stream",
     "text": [
      "不选择低价理由能写些啥，我已经词穷了\n"
     ]
    },
    {
     "name": "stdout",
     "output_type": "stream",
     "text": [
      "不能保证是原厂组装发货？\n"
     ]
    },
    {
     "name": "stdout",
     "output_type": "stream",
     "text": [
      "存在潜在质量风险\n"
     ]
    },
    {
     "name": "stdout",
     "output_type": "stream",
     "text": [
      "不能提供原厂专业技术服务\n"
     ]
    },
    {
     "name": "stdout",
     "output_type": "stream",
     "text": [
      "没嘛\n"
     ]
    },
    {
     "name": "stdout",
     "output_type": "stream",
     "text": [
      "没嘛不回我消息\n"
     ]
    },
    {
     "name": "stdout",
     "output_type": "stream",
     "text": [
      "无辜\n"
     ]
    },
    {
     "name": "stdout",
     "output_type": "stream",
     "text": [
      "我回了呀\n"
     ]
    },
    {
     "name": "stdout",
     "output_type": "stream",
     "text": [
      "十五分钟\n"
     ]
    },
    {
     "name": "stdout",
     "output_type": "stream",
     "text": [
      "[Facepalm]我错了\n"
     ]
    },
    {
     "name": "stdout",
     "output_type": "stream",
     "text": [
      "路上走呢，没听见\n"
     ]
    },
    {
     "name": "stdout",
     "output_type": "stream",
     "text": [
      "走到哪了？\n"
     ]
    },
    {
     "name": "stdout",
     "output_type": "stream",
     "text": [
      "躺我床上了\n"
     ]
    },
    {
     "name": "stdout",
     "output_type": "stream",
     "text": [
      "你准备干嘛\n"
     ]
    },
    {
     "name": "stdout",
     "output_type": "stream",
     "text": [
      "不干嘛\n"
     ]
    },
    {
     "name": "stdout",
     "output_type": "stream",
     "text": [
      "好吧\n"
     ]
    },
    {
     "name": "stdout",
     "output_type": "stream",
     "text": [
      "想见你\n"
     ]
    },
    {
     "name": "stdout",
     "output_type": "stream",
     "text": [
      "我也是啊\n"
     ]
    },
    {
     "name": "stdout",
     "output_type": "stream",
     "text": [
      "[Concerned]咋办\n"
     ]
    },
    {
     "name": "stdout",
     "output_type": "stream",
     "text": [
      "见不？\n"
     ]
    },
    {
     "name": "stdout",
     "output_type": "stream",
     "text": [
      "我得等我妈，给她开门\n"
     ]
    },
    {
     "name": "stdout",
     "output_type": "stream",
     "text": [
      "突然觉得是蝴蝶效应\n"
     ]
    },
    {
     "name": "stdout",
     "output_type": "stream",
     "text": [
      "我家里的改变，还有你想见不能见，都是从家里阿姨昨天住院开始改变了\n"
     ]
    },
    {
     "name": "stdout",
     "output_type": "stream",
     "text": [
      "其实也就住了一天，今天都出来了\n"
     ]
    },
    {
     "name": "stdout",
     "output_type": "stream",
     "text": [
      "她每天都来？\n"
     ]
    },
    {
     "name": "stdout",
     "output_type": "stream",
     "text": [
      "不知道\n"
     ]
    },
    {
     "name": "stdout",
     "output_type": "stream",
     "text": [
      "哦\n"
     ]
    },
    {
     "name": "stdout",
     "output_type": "stream",
     "text": [
      "我总觉得不会坚持太久\n"
     ]
    },
    {
     "name": "stdout",
     "output_type": "stream",
     "text": [
      "无法保障原厂整机组装发货及原厂专业技术售后服务，后续运维管理成本较高。\n"
     ]
    },
    {
     "name": "stdout",
     "output_type": "stream",
     "text": [
      "这样？\n"
     ]
    },
    {
     "name": "stdout",
     "output_type": "stream",
     "text": [
      "我概括的意思对吗\n"
     ]
    },
    {
     "name": "stdout",
     "output_type": "stream",
     "text": [
      "销售总是说很多\n"
     ]
    },
    {
     "name": "stdout",
     "output_type": "stream",
     "text": [
      "运维风险较大吧，不是成本高\n"
     ]
    },
    {
     "name": "stdout",
     "output_type": "stream",
     "text": [
      "对\n"
     ]
    },
    {
     "name": "stdout",
     "output_type": "stream",
     "text": [
      "但时候可以把这些对话给采购的老师看看，再说一说\n"
     ]
    },
    {
     "name": "stdout",
     "output_type": "stream",
     "text": [
      "只有电话才能联系上\n"
     ]
    },
    {
     "name": "stdout",
     "output_type": "stream",
     "text": [
      "所以他看不见\n"
     ]
    },
    {
     "name": "stdout",
     "output_type": "stream",
     "text": [
      "噢噢，那说说就行了呗\n"
     ]
    },
    {
     "name": "stdout",
     "output_type": "stream",
     "text": [
      "我希望他这次给我通过了，我已经不想跟他对话了\n"
     ]
    },
    {
     "name": "stdout",
     "output_type": "stream",
     "text": [
      "哈哈\n"
     ]
    },
    {
     "name": "stdout",
     "output_type": "stream",
     "text": [
      "😂😂😂\n"
     ]
    },
    {
     "name": "stdout",
     "output_type": "stream",
     "text": [
      "唉又不见人了\n"
     ]
    },
    {
     "name": "stdout",
     "output_type": "stream",
     "text": [
      "大结局了\n"
     ]
    },
    {
     "name": "stdout",
     "output_type": "stream",
     "text": [
      "亿万\n"
     ]
    },
    {
     "name": "stdout",
     "output_type": "stream",
     "text": [
      "等会说啊，还有二十分钟\n"
     ]
    },
    {
     "name": "stdout",
     "output_type": "stream",
     "text": [
      "恭喜\n"
     ]
    },
    {
     "name": "stdout",
     "output_type": "stream",
     "text": [
      "完啦！\n"
     ]
    },
    {
     "name": "stdout",
     "output_type": "stream",
     "text": [
      "感觉下一季更好看[Facepalm]可惜不知道什么时候才出\n"
     ]
    },
    {
     "name": "stdout",
     "output_type": "stream",
     "text": [
      "洗漱呢，你先玩\n"
     ]
    },
    {
     "name": "stdout",
     "output_type": "stream",
     "text": [
      "第几季了？\n"
     ]
    },
    {
     "name": "stdout",
     "output_type": "stream",
     "text": [
      "第四季\n"
     ]
    }
   ],
   "source": [
    "itchat.run()\n"
   ]
  },
  {
   "cell_type": "code",
   "execution_count": null,
   "metadata": {},
   "outputs": [],
   "source": []
  }
 ],
 "metadata": {
  "kernelspec": {
   "display_name": "Python 2",
   "language": "python",
   "name": "python2"
  },
  "language_info": {
   "codemirror_mode": {
    "name": "ipython",
    "version": 2
   },
   "file_extension": ".py",
   "mimetype": "text/x-python",
   "name": "python",
   "nbconvert_exporter": "python",
   "pygments_lexer": "ipython2",
   "version": "2.7.6"
  }
 },
 "nbformat": 4,
 "nbformat_minor": 0
}
