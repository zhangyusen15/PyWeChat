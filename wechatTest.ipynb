{
 "cells": [
  {
   "cell_type": "code",
   "execution_count": 69,
   "metadata": {
    "collapsed": true
   },
   "outputs": [],
   "source": [
    "import itchat"
   ]
  },
  {
   "cell_type": "code",
   "execution_count": 70,
   "metadata": {},
   "outputs": [],
   "source": [
    "itchat.auto_login(hotReload=True)"
   ]
  },
  {
   "cell_type": "code",
   "execution_count": 71,
   "metadata": {},
   "outputs": [],
   "source": [
    "friends = itchat.get_friends(update=True)"
   ]
  },
  {
   "cell_type": "code",
   "execution_count": 40,
   "metadata": {},
   "outputs": [
    {
     "ename": "KeyboardInterrupt",
     "evalue": "",
     "traceback": [
      "\u001b[1;31m---------------------------------------------------------------------------\u001b[0m",
      "\u001b[1;31mKeyboardInterrupt\u001b[0m                         Traceback (most recent call last)",
      "\u001b[1;32m<ipython-input-40-6197186bc57b>\u001b[0m in \u001b[0;36m<module>\u001b[1;34m()\u001b[0m\n\u001b[0;32m      7\u001b[0m \u001b[1;32mfor\u001b[0m \u001b[0mx\u001b[0m \u001b[1;32min\u001b[0m \u001b[0mrange\u001b[0m\u001b[1;33m(\u001b[0m\u001b[1;36m100\u001b[0m\u001b[1;33m)\u001b[0m\u001b[1;33m:\u001b[0m\u001b[1;33m\u001b[0m\u001b[0m\n\u001b[0;32m      8\u001b[0m     \u001b[0mword\u001b[0m \u001b[1;33m=\u001b[0m\u001b[0mword\u001b[0m\u001b[1;33m+\u001b[0m\u001b[1;34mu\"呸\"\u001b[0m\u001b[1;33m\u001b[0m\u001b[0m\n\u001b[1;32m----> 9\u001b[1;33m     \u001b[0mtime\u001b[0m\u001b[1;33m.\u001b[0m\u001b[0msleep\u001b[0m\u001b[1;33m(\u001b[0m\u001b[1;36m0.4\u001b[0m\u001b[1;33m)\u001b[0m\u001b[1;33m\u001b[0m\u001b[0m\n\u001b[0m\u001b[0;32m     10\u001b[0m     \u001b[0mitchat\u001b[0m\u001b[1;33m.\u001b[0m\u001b[0msend\u001b[0m\u001b[1;33m(\u001b[0m\u001b[0mword\u001b[0m\u001b[1;33m,\u001b[0m\u001b[0mtoUserName\u001b[0m\u001b[1;33m=\u001b[0m\u001b[0muname\u001b[0m\u001b[1;33m)\u001b[0m\u001b[1;33m\u001b[0m\u001b[0m\n",
      "\u001b[1;31mKeyboardInterrupt\u001b[0m: "
     ],
     "output_type": "error"
    }
   ],
   "source": [
    "for i in friends:\n",
    "    if i[\"NickName\"]==u\"趣\":\n",
    "        uname = i[u\"UserName\"]\n",
    "\n",
    "word = u\"\"\n",
    "import time\n",
    "for x in range(100):\n",
    "    word =word+u\"呸\"\n",
    "    time.sleep(0.4)\n",
    "    itchat.send(word,toUserName=uname)"
   ]
  },
  {
   "cell_type": "code",
   "execution_count": 49,
   "metadata": {},
   "outputs": [
    {
     "name": "stderr",
     "output_type": "stream",
     "text": [
      "Start auto replying.\n"
     ]
    }
   ],
   "source": [
    "@itchat.msg_register(['Text', 'Map', 'Card', 'Note', 'Sharing', 'Picture'])\n",
    "def print_content(msg):\n",
    "    reply = get_response(msg[\"Text\"])\n",
    "    print reply\n",
    "    if msg.User[\"NickName\"]==u\"趣\":\n",
    "        return u\"Whatev..\"\n",
    "itchat.run()"
   ]
  },
  {
   "cell_type": "code",
   "execution_count": 72,
   "metadata": {},
   "outputs": [
    {
     "name": "stderr",
     "output_type": "stream",
     "text": [
      "Start auto replying.\n"
     ]
    },
    {
     "name": "stderr",
     "output_type": "stream",
     "text": [
      "Traceback (most recent call last):\n  File \"D:\\anaconda2\\lib\\site-packages\\itchat\\components\\register.py\", line 60, in configured_reply\n    r = replyFn(msg)\n  File \"<ipython-input-72-b82ab8e17c55>\", line 4, in text_reply\n    print get_response(msg[\"Text\"])[\"text\"]\n  File \"<ipython-input-33-6d3816b97734>\", line 4, in get_response\n    'key'  : KEY,\nNameError: global name 'KEY' is not defined\n\n"
     ]
    },
    {
     "name": "stderr",
     "output_type": "stream",
     "text": [
      "Traceback (most recent call last):\n  File \"D:\\anaconda2\\lib\\site-packages\\itchat\\components\\register.py\", line 60, in configured_reply\n    r = replyFn(msg)\n  File \"<ipython-input-72-b82ab8e17c55>\", line 4, in text_reply\n    print get_response(msg[\"Text\"])[\"text\"]\n  File \"<ipython-input-33-6d3816b97734>\", line 4, in get_response\n    'key'  : KEY,\nNameError: global name 'KEY' is not defined\n\n"
     ]
    },
    {
     "name": "stderr",
     "output_type": "stream",
     "text": [
      "Traceback (most recent call last):\n  File \"D:\\anaconda2\\lib\\site-packages\\itchat\\components\\register.py\", line 60, in configured_reply\n    r = replyFn(msg)\n  File \"<ipython-input-72-b82ab8e17c55>\", line 4, in text_reply\n    print get_response(msg[\"Text\"])[\"text\"]\n  File \"<ipython-input-33-6d3816b97734>\", line 4, in get_response\n    'key'  : KEY,\nNameError: global name 'KEY' is not defined\n\n"
     ]
    },
    {
     "name": "stderr",
     "output_type": "stream",
     "text": [
      "Traceback (most recent call last):\n  File \"D:\\anaconda2\\lib\\site-packages\\itchat\\components\\register.py\", line 60, in configured_reply\n    r = replyFn(msg)\n  File \"<ipython-input-72-b82ab8e17c55>\", line 4, in text_reply\n    print get_response(msg[\"Text\"])[\"text\"]\n  File \"<ipython-input-33-6d3816b97734>\", line 4, in get_response\n    'key'  : KEY,\nNameError: global name 'KEY' is not defined\n\n"
     ]
    },
    {
     "name": "stderr",
     "output_type": "stream",
     "text": [
      "Traceback (most recent call last):\n  File \"D:\\anaconda2\\lib\\site-packages\\itchat\\components\\register.py\", line 60, in configured_reply\n    r = replyFn(msg)\n  File \"<ipython-input-72-b82ab8e17c55>\", line 4, in text_reply\n    print get_response(msg[\"Text\"])[\"text\"]\n  File \"<ipython-input-33-6d3816b97734>\", line 4, in get_response\n    'key'  : KEY,\nNameError: global name 'KEY' is not defined\n\n"
     ]
    },
    {
     "name": "stderr",
     "output_type": "stream",
     "text": [
      "Traceback (most recent call last):\n  File \"D:\\anaconda2\\lib\\site-packages\\itchat\\components\\register.py\", line 60, in configured_reply\n    r = replyFn(msg)\n  File \"<ipython-input-72-b82ab8e17c55>\", line 4, in text_reply\n    print get_response(msg[\"Text\"])[\"text\"]\n  File \"<ipython-input-33-6d3816b97734>\", line 4, in get_response\n    'key'  : KEY,\nNameError: global name 'KEY' is not defined\n\n"
     ]
    },
    {
     "name": "stderr",
     "output_type": "stream",
     "text": [
      "Bye~\n"
     ]
    }
   ],
   "source": [
    "@itchat.msg_register([itchat.content.TEXT,itchat.content.PICTURE,\n",
    "                      itchat.content.VIDEO])\n",
    "def text_reply(msg):\n",
    "    print get_response(msg[\"Text\"])[\"text\"]\n",
    "    return get_response(msg[\"Text\"])[\"text\"]\n",
    "itchat.run()"
   ]
  },
  {
   "cell_type": "code",
   "execution_count": 54,
   "metadata": {},
   "outputs": [
    {
     "data": {
      "text/plain": [
       "['ATTACHMENT',\n 'CARD',\n 'FRIENDS',\n 'INCOME_MSG',\n 'MAP',\n 'NOTE',\n 'PICTURE',\n 'RECORDING',\n 'SHARING',\n 'SYSTEM',\n 'TEXT',\n 'VIDEO',\n 'VOICE',\n '__builtins__',\n '__doc__',\n '__file__',\n '__name__',\n '__package__']"
      ]
     },
     "execution_count": 54,
     "metadata": {},
     "output_type": "execute_result"
    }
   ],
   "source": [
    "dir(itchat.content)"
   ]
  },
  {
   "cell_type": "code",
   "execution_count": null,
   "metadata": {},
   "outputs": [],
   "source": []
  }
 ],
 "metadata": {
  "kernelspec": {
   "display_name": "Python 2",
   "language": "python",
   "name": "python2"
  },
  "language_info": {
   "codemirror_mode": {
    "name": "ipython",
    "version": 2
   },
   "file_extension": ".py",
   "mimetype": "text/x-python",
   "name": "python",
   "nbconvert_exporter": "python",
   "pygments_lexer": "ipython2",
   "version": "2.7.6"
  }
 },
 "nbformat": 4,
 "nbformat_minor": 0
}
