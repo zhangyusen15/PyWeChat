{
 "cells": [
  {
   "cell_type": "code",
   "execution_count": 69,
   "metadata": {
    "collapsed": true
   },
   "outputs": [],
   "source": [
    "import itchat"
   ]
  },
  {
   "cell_type": "code",
   "execution_count": 79,
   "metadata": {},
   "outputs": [
    {
     "name": "stderr",
     "output_type": "stream",
     "text": [
      "Getting uuid of QR code.\n"
     ]
    },
    {
     "name": "stderr",
     "output_type": "stream",
     "text": [
      "Downloading QR code.\n"
     ]
    },
    {
     "name": "stderr",
     "output_type": "stream",
     "text": [
      "Please scan the QR code to log in.\n"
     ]
    },
    {
     "name": "stderr",
     "output_type": "stream",
     "text": [
      "Please press confirm on your phone.\n"
     ]
    },
    {
     "name": "stderr",
     "output_type": "stream",
     "text": [
      "Loading the contact, this may take a little while.\n"
     ]
    },
    {
     "name": "stderr",
     "output_type": "stream",
     "text": [
      "Login successfully as Isak ®\n"
     ]
    }
   ],
   "source": [
    "itchat.auto_login(hotReload=True)"
   ]
  },
  {
   "cell_type": "code",
   "execution_count": 4,
   "metadata": {},
   "outputs": [],
   "source": [
    "# get the list of friends\n",
    "friends = itchat.get_friends(update=True) "
   ]
  },
  {
   "cell_type": "code",
   "execution_count": 5,
   "metadata": {},
   "outputs": [
    {
     "data": {
      "text/plain": [
       "<ItchatReturnValue: {u'MsgID': u'4421511270022359234', u'LocalID': u'15602253479130', u'BaseResponse': {u'ErrMsg': u'\\u8bf7\\u6c42\\u6210\\u529f', u'Ret': 0, 'RawMsg': u'\\u8bf7\\u6c42\\u6210\\u529f'}}>"
      ]
     },
     "execution_count": 5,
     "metadata": {},
     "output_type": "execute_result"
    }
   ],
   "source": [
    "# send text to user\n",
    "for i in friends:\n",
    "    if i[\"NickName\"]==u\"趣\":\n",
    "        uname = i[u\"UserName\"]\n",
    "        \n",
    "word = u\"今天热不热\"\n",
    "itchat.send(word,toUserName=uname)"
   ]
  },
  {
   "cell_type": "code",
   "execution_count": 81,
   "metadata": {},
   "outputs": [],
   "source": [
    "# Auto response\n",
    "def text_reply():\n",
    "    return\n",
    "\n",
    "@itchat.msg_register(itchat.content.TEXT)\n",
    "def text_reply(msg):\n",
    "    print msg.Text\n",
    "    if msg.User[\"NickName\"]==u\"趣\":         # response to certain user\n",
    "        if \"250\" in msg.Text:               # if we get certain info\n",
    "            return u\"我也想你啦[Kiss]\"\n",
    "        elif \"251\" in msg.Text:\n",
    "            return u\"1\"\n",
    "        elif u\"呵\" in msg.Text:\n",
    "            return u\"不许呵！[Kiss]\""
   ]
  },
  {
   "cell_type": "code",
   "execution_count": 82,
   "metadata": {},
   "outputs": [
    {
     "name": "stderr",
     "output_type": "stream",
     "text": [
      "Start auto replying.\n"
     ]
    },
    {
     "name": "stdout",
     "output_type": "stream",
     "text": [
      "对啊\n"
     ]
    },
    {
     "name": "stdout",
     "output_type": "stream",
     "text": [
      "你妈也在？\n"
     ]
    },
    {
     "name": "stdout",
     "output_type": "stream",
     "text": [
      "还没过来呢\n"
     ]
    },
    {
     "name": "stdout",
     "output_type": "stream",
     "text": [
      "我妈真是心血来潮😂\n"
     ]
    },
    {
     "name": "stdout",
     "output_type": "stream",
     "text": [
      "你吃的啥？\n"
     ]
    },
    {
     "name": "stdout",
     "output_type": "stream",
     "text": [
      "菜\n"
     ]
    },
    {
     "name": "stdout",
     "output_type": "stream",
     "text": [
      "啥菜\n"
     ]
    },
    {
     "name": "stdout",
     "output_type": "stream",
     "text": [
      "火腿青菜\n"
     ]
    },
    {
     "name": "stdout",
     "output_type": "stream",
     "text": [
      "听着就不好吃\n"
     ]
    },
    {
     "name": "stdout",
     "output_type": "stream",
     "text": [
      "哈哈哈还可以\n"
     ]
    },
    {
     "name": "stdout",
     "output_type": "stream",
     "text": [
      "你自己炒的？\n"
     ]
    },
    {
     "name": "stdout",
     "output_type": "stream",
     "text": [
      "不是呀\n"
     ]
    },
    {
     "name": "stdout",
     "output_type": "stream",
     "text": [
      "我下午没做饭\n"
     ]
    },
    {
     "name": "stdout",
     "output_type": "stream",
     "text": [
      "噢噢\n"
     ]
    },
    {
     "name": "stdout",
     "output_type": "stream",
     "text": [
      "你家是多少平？\n"
     ]
    },
    {
     "name": "stdout",
     "output_type": "stream",
     "text": [
      "不到100\n"
     ]
    },
    {
     "name": "stdout",
     "output_type": "stream",
     "text": [
      "噢噢\n"
     ]
    },
    {
     "name": "stdout",
     "output_type": "stream",
     "text": [
      "咋了\n"
     ]
    },
    {
     "name": "stdout",
     "output_type": "stream",
     "text": [
      "没啥。随便问问\n"
     ]
    },
    {
     "name": "stdout",
     "output_type": "stream",
     "text": [
      "噢噢\n"
     ]
    },
    {
     "name": "stdout",
     "output_type": "stream",
     "text": [
      "没有，刚跟学生开完会\n"
     ]
    },
    {
     "name": "stdout",
     "output_type": "stream",
     "text": [
      "又去开会了。。。\n"
     ]
    },
    {
     "name": "stdout",
     "output_type": "stream",
     "text": [
      "我现在准备回家，到家找你哈\n"
     ]
    },
    {
     "name": "stdout",
     "output_type": "stream",
     "text": [
      "好嘞\n"
     ]
    },
    {
     "name": "stdout",
     "output_type": "stream",
     "text": [
      "嗨\n"
     ]
    },
    {
     "name": "stderr",
     "output_type": "stream",
     "text": [
      "LOG OUT!\n"
     ]
    }
   ],
   "source": [
    "itchat.run()\n"
   ]
  },
  {
   "cell_type": "code",
   "execution_count": null,
   "metadata": {},
   "outputs": [],
   "source": []
  }
 ],
 "metadata": {
  "kernelspec": {
   "display_name": "Python 2",
   "language": "python",
   "name": "python2"
  },
  "language_info": {
   "codemirror_mode": {
    "name": "ipython",
    "version": 2
   },
   "file_extension": ".py",
   "mimetype": "text/x-python",
   "name": "python",
   "nbconvert_exporter": "python",
   "pygments_lexer": "ipython2",
   "version": "2.7.6"
  }
 },
 "nbformat": 4,
 "nbformat_minor": 0
}
