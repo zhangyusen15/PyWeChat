{
 "cells": [
  {
   "cell_type": "code",
   "execution_count": 69,
   "metadata": {
    "collapsed": true
   },
   "outputs": [],
   "source": [
    "import itchat"
   ]
  },
  {
   "cell_type": "code",
   "execution_count": 73,
   "metadata": {},
   "outputs": [],
   "source": [
    "itchat.auto_login(hotReload=True)"
   ]
  },
  {
   "cell_type": "code",
   "execution_count": 4,
   "metadata": {},
   "outputs": [],
   "source": [
    "# get the list of friends\n",
    "friends = itchat.get_friends(update=True) "
   ]
  },
  {
   "cell_type": "code",
   "execution_count": 5,
   "metadata": {},
   "outputs": [
    {
     "data": {
      "text/plain": [
       "<ItchatReturnValue: {u'MsgID': u'4421511270022359234', u'LocalID': u'15602253479130', u'BaseResponse': {u'ErrMsg': u'\\u8bf7\\u6c42\\u6210\\u529f', u'Ret': 0, 'RawMsg': u'\\u8bf7\\u6c42\\u6210\\u529f'}}>"
      ]
     },
     "execution_count": 5,
     "metadata": {},
     "output_type": "execute_result"
    }
   ],
   "source": [
    "# send text to user\n",
    "for i in friends:\n",
    "    if i[\"NickName\"]==u\"趣\":\n",
    "        uname = i[u\"UserName\"]\n",
    "        \n",
    "word = u\"今天热不热\"\n",
    "itchat.send(word,toUserName=uname)"
   ]
  },
  {
   "cell_type": "code",
   "execution_count": 74,
   "metadata": {},
   "outputs": [],
   "source": [
    "# Auto response\n",
    "def text_reply():\n",
    "    return\n",
    "\n",
    "@itchat.msg_register(itchat.content.TEXT)\n",
    "def text_reply(msg):\n",
    "    print msg.Text\n",
    "    if msg.User[\"NickName\"]==u\"趣\":         # response to certain user\n",
    "        if \"250\" in msg.Text:               # if we get certain info\n",
    "            return u\"我也想你啦[Kiss]\"\n",
    "        elif \"251\" in msg.Text:\n",
    "            return u\"1\""
   ]
  },
  {
   "cell_type": "code",
   "execution_count": 75,
   "metadata": {},
   "outputs": [
    {
     "name": "stderr",
     "output_type": "stream",
     "text": [
      "Start auto replying.\n"
     ]
    },
    {
     "name": "stdout",
     "output_type": "stream",
     "text": [
      "哈哈哈哈哈哈\n"
     ]
    },
    {
     "name": "stdout",
     "output_type": "stream",
     "text": [
      "睡觉不？\n"
     ]
    },
    {
     "name": "stdout",
     "output_type": "stream",
     "text": [
      "睡啊\n"
     ]
    },
    {
     "name": "stdout",
     "output_type": "stream",
     "text": [
      "你躺下了？\n"
     ]
    },
    {
     "name": "stdout",
     "output_type": "stream",
     "text": [
      "嗯\n"
     ]
    },
    {
     "name": "stdout",
     "output_type": "stream",
     "text": [
      "想抱你\n"
     ]
    },
    {
     "name": "stdout",
     "output_type": "stream",
     "text": [
      "你不上个厕所？\n"
     ]
    },
    {
     "name": "stdout",
     "output_type": "stream",
     "text": [
      "不上\n"
     ]
    },
    {
     "name": "stdout",
     "output_type": "stream",
     "text": [
      "我下午得回家给我妈做饭\n"
     ]
    },
    {
     "name": "stdout",
     "output_type": "stream",
     "text": [
      "做啥饭？\n"
     ]
    },
    {
     "name": "stdout",
     "output_type": "stream",
     "text": [
      "时间有点紧，下午我们还得开会\n"
     ]
    },
    {
     "name": "stdout",
     "output_type": "stream",
     "text": [
      "她要喝稀饭\n"
     ]
    },
    {
     "name": "stdout",
     "output_type": "stream",
     "text": [
      "噢噢\n"
     ]
    },
    {
     "name": "stdout",
     "output_type": "stream",
     "text": [
      "那你中午熬上不就可以了？\n"
     ]
    },
    {
     "name": "stdout",
     "output_type": "stream",
     "text": [
      "我在我妈这呢，没在家\n"
     ]
    },
    {
     "name": "stdout",
     "output_type": "stream",
     "text": [
      "？？？？\n"
     ]
    },
    {
     "name": "stdout",
     "output_type": "stream",
     "text": [
      "下午少吃点，炒个笋子，\n"
     ]
    },
    {
     "name": "stdout",
     "output_type": "stream",
     "text": [
      "还炒啥呢。\n"
     ]
    },
    {
     "name": "stdout",
     "output_type": "stream",
     "text": [
      "你在你妈这熬上，下午过来一吃么\n"
     ]
    },
    {
     "name": "stdout",
     "output_type": "stream",
     "text": [
      "炒个辣子\n"
     ]
    },
    {
     "name": "stdout",
     "output_type": "stream",
     "text": [
      "我妈要去我那吃\n"
     ]
    },
    {
     "name": "stdout",
     "output_type": "stream",
     "text": [
      "为啥？\n"
     ]
    },
    {
     "name": "stdout",
     "output_type": "stream",
     "text": [
      "因为我妈让我来南门十字跟她住，我不去\n"
     ]
    },
    {
     "name": "stdout",
     "output_type": "stream",
     "text": [
      "我让我妈去我那住\n"
     ]
    },
    {
     "name": "stdout",
     "output_type": "stream",
     "text": [
      "为啥让你去她那住？\n"
     ]
    },
    {
     "name": "stdout",
     "output_type": "stream",
     "text": [
      "我哥嫂子晚上回他们家住了\n"
     ]
    },
    {
     "name": "stdout",
     "output_type": "stream",
     "text": [
      "乃你爸哪？\n"
     ]
    },
    {
     "name": "stdout",
     "output_type": "stream",
     "text": [
      "我爸这段时间不在平凉\n"
     ]
    },
    {
     "name": "stdout",
     "output_type": "stream",
     "text": [
      "哦\n"
     ]
    },
    {
     "name": "stdout",
     "output_type": "stream",
     "text": [
      "那这几天你妈都在你这？\n"
     ]
    },
    {
     "name": "stdout",
     "output_type": "stream",
     "text": [
      "这只是假象……\n"
     ]
    },
    {
     "name": "stdout",
     "output_type": "stream",
     "text": [
      "啊？\n"
     ]
    },
    {
     "name": "stdout",
     "output_type": "stream",
     "text": [
      "我不信她会住\n"
     ]
    },
    {
     "name": "stdout",
     "output_type": "stream",
     "text": [
      "为啥？\n"
     ]
    },
    {
     "name": "stdout",
     "output_type": "stream",
     "text": [
      "她性格不是住别人家的人，即使是我哥和我那\n"
     ]
    },
    {
     "name": "stdout",
     "output_type": "stream",
     "text": [
      "家里阿姨今天住院了，所以下午去我那吃饭\n"
     ]
    },
    {
     "name": "stdout",
     "output_type": "stream",
     "text": [
      "你妈不会组饭吗？\n"
     ]
    },
    {
     "name": "stdout",
     "output_type": "stream",
     "text": [
      "她一个人的饭没啥做的\n"
     ]
    },
    {
     "name": "stdout",
     "output_type": "stream",
     "text": [
      "我妈做饭挺好吃的\n"
     ]
    },
    {
     "name": "stdout",
     "output_type": "stream",
     "text": [
      "睡了\n"
     ]
    },
    {
     "name": "stdout",
     "output_type": "stream",
     "text": [
      "噢噢\n"
     ]
    },
    {
     "name": "stdout",
     "output_type": "stream",
     "text": [
      "午安\n"
     ]
    },
    {
     "name": "stdout",
     "output_type": "stream",
     "text": [
      "午安\n"
     ]
    },
    {
     "name": "stdout",
     "output_type": "stream",
     "text": [
      "250\n"
     ]
    },
    {
     "name": "stdout",
     "output_type": "stream",
     "text": [
      "直播倒计时启动！\n想知道起薪30万的投行/PE/VC行业求职独家秘技？\n提问互动还有精美礼品相送！\n今晚19:00，海职TV 等你来撩~（观看可直接扫描下方二维码进入直播间哟！）\n"
     ]
    },
    {
     "name": "stdout",
     "output_type": "stream",
     "text": [
      "1\n"
     ]
    }
   ],
   "source": [
    "itchat.run()\n"
   ]
  },
  {
   "cell_type": "code",
   "execution_count": null,
   "metadata": {},
   "outputs": [],
   "source": []
  }
 ],
 "metadata": {
  "kernelspec": {
   "display_name": "Python 2",
   "language": "python",
   "name": "python2"
  },
  "language_info": {
   "codemirror_mode": {
    "name": "ipython",
    "version": 2
   },
   "file_extension": ".py",
   "mimetype": "text/x-python",
   "name": "python",
   "nbconvert_exporter": "python",
   "pygments_lexer": "ipython2",
   "version": "2.7.6"
  }
 },
 "nbformat": 4,
 "nbformat_minor": 0
}
