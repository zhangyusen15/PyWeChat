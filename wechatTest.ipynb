{
 "cells": [
  {
   "cell_type": "code",
   "execution_count": 2,
   "metadata": {
    "collapsed": true
   },
   "outputs": [],
   "source": [
    "import itchat"
   ]
  },
  {
   "cell_type": "code",
   "execution_count": 23,
   "metadata": {},
   "outputs": [],
   "source": [
    "itchat.auto_login(hotReload=True)"
   ]
  },
  {
   "cell_type": "code",
   "execution_count": 4,
   "metadata": {},
   "outputs": [],
   "source": [
    "friends = itchat.get_friends(update=True)"
   ]
  },
  {
   "cell_type": "code",
   "execution_count": 5,
   "metadata": {},
   "outputs": [
    {
     "data": {
      "text/plain": [
       "<ItchatReturnValue: {u'MsgID': u'4421511270022359234', u'LocalID': u'15602253479130', u'BaseResponse': {u'ErrMsg': u'\\u8bf7\\u6c42\\u6210\\u529f', u'Ret': 0, 'RawMsg': u'\\u8bf7\\u6c42\\u6210\\u529f'}}>"
      ]
     },
     "execution_count": 5,
     "metadata": {},
     "output_type": "execute_result"
    }
   ],
   "source": [
    "# send text to user\n",
    "for i in friends:\n",
    "    if i[\"NickName\"]==u\"趣\":\n",
    "        uname = i[u\"UserName\"]\n",
    "        \n",
    "word = u\"今天热不热\"\n",
    "itchat.send(word,toUserName=uname)"
   ]
  },
  {
   "cell_type": "code",
   "execution_count": 49,
   "metadata": {},
   "outputs": [
    {
     "name": "stderr",
     "output_type": "stream",
     "text": [
      "Start auto replying.\n"
     ]
    }
   ],
   "source": [
    ""
   ]
  },
  {
   "cell_type": "code",
   "execution_count": 25,
   "metadata": {},
   "outputs": [
    {
     "name": "stderr",
     "output_type": "stream",
     "text": [
      "Start auto replying.\n"
     ]
    }
   ],
   "source": [
    "@itchat.msg_register(itchat.content.TEXT)\n",
    "def text_reply(msg):\n",
    "    if msg.User[\"NickName\"]==u\"趣\":\n",
    "        return u\"你猜\"\n",
    "itchat.run()"
   ]
  },
  {
   "cell_type": "code",
   "execution_count": 54,
   "metadata": {},
   "outputs": [
    {
     "data": {
      "text/plain": [
       "['ATTACHMENT',\n 'CARD',\n 'FRIENDS',\n 'INCOME_MSG',\n 'MAP',\n 'NOTE',\n 'PICTURE',\n 'RECORDING',\n 'SHARING',\n 'SYSTEM',\n 'TEXT',\n 'VIDEO',\n 'VOICE',\n '__builtins__',\n '__doc__',\n '__file__',\n '__name__',\n '__package__']"
      ]
     },
     "execution_count": 54,
     "metadata": {},
     "output_type": "execute_result"
    }
   ],
   "source": [
    "dir(itchat.content)"
   ]
  },
  {
   "cell_type": "code",
   "execution_count": null,
   "metadata": {},
   "outputs": [],
   "source": []
  }
 ],
 "metadata": {
  "kernelspec": {
   "display_name": "Python 2",
   "language": "python",
   "name": "python2"
  },
  "language_info": {
   "codemirror_mode": {
    "name": "ipython",
    "version": 2
   },
   "file_extension": ".py",
   "mimetype": "text/x-python",
   "name": "python",
   "nbconvert_exporter": "python",
   "pygments_lexer": "ipython2",
   "version": "2.7.6"
  }
 },
 "nbformat": 4,
 "nbformat_minor": 0
}
