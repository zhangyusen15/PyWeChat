{
 "cells": [
  {
   "cell_type": "code",
   "execution_count": 2,
   "metadata": {
    "collapsed": true
   },
   "outputs": [],
   "source": [
    "import itchat"
   ]
  },
  {
   "cell_type": "code",
   "execution_count": 57,
   "metadata": {},
   "outputs": [
    {
     "name": "stderr",
     "output_type": "stream",
     "text": [
      "Getting uuid of QR code.\n"
     ]
    },
    {
     "name": "stderr",
     "output_type": "stream",
     "text": [
      "Downloading QR code.\n"
     ]
    },
    {
     "name": "stderr",
     "output_type": "stream",
     "text": [
      "Please scan the QR code to log in.\n"
     ]
    },
    {
     "name": "stderr",
     "output_type": "stream",
     "text": [
      "Please press confirm on your phone.\n"
     ]
    },
    {
     "name": "stderr",
     "output_type": "stream",
     "text": [
      "Loading the contact, this may take a little while.\n"
     ]
    },
    {
     "name": "stderr",
     "output_type": "stream",
     "text": [
      "Login successfully as Isak ®\n"
     ]
    }
   ],
   "source": [
    "itchat.auto_login(hotReload=True)"
   ]
  },
  {
   "cell_type": "code",
   "execution_count": 4,
   "metadata": {},
   "outputs": [],
   "source": [
    "# get the list of friends\n",
    "friends = itchat.get_friends(update=True) "
   ]
  },
  {
   "cell_type": "code",
   "execution_count": 5,
   "metadata": {},
   "outputs": [
    {
     "data": {
      "text/plain": [
       "<ItchatReturnValue: {u'MsgID': u'4421511270022359234', u'LocalID': u'15602253479130', u'BaseResponse': {u'ErrMsg': u'\\u8bf7\\u6c42\\u6210\\u529f', u'Ret': 0, 'RawMsg': u'\\u8bf7\\u6c42\\u6210\\u529f'}}>"
      ]
     },
     "execution_count": 5,
     "metadata": {},
     "output_type": "execute_result"
    }
   ],
   "source": [
    "# send text to user\n",
    "for i in friends:\n",
    "    if i[\"NickName\"]==u\"趣\":\n",
    "        uname = i[u\"UserName\"]\n",
    "        \n",
    "word = u\"今天热不热\"\n",
    "itchat.send(word,toUserName=uname)"
   ]
  },
  {
   "cell_type": "code",
   "execution_count": 58,
   "metadata": {},
   "outputs": [],
   "source": [
    "# Auto response\n",
    "\n",
    "@itchat.msg_register(itchat.content.TEXT)\n",
    "def text_reply(msg):\n",
    "    print msg.Text\n",
    "    if msg.User[\"NickName\"]==u\"趣\":         # response to certain user\n",
    "        if \"250\" in msg.Text:               # if we get certain info\n",
    "            return u\"1\""
   ]
  },
  {
   "cell_type": "code",
   "execution_count": 59,
   "metadata": {},
   "outputs": [
    {
     "name": "stderr",
     "output_type": "stream",
     "text": [
      "Start auto replying.\n"
     ]
    },
    {
     "name": "stderr",
     "output_type": "stream",
     "text": [
      "Traceback (most recent call last):\n  File \"D:\\anaconda2\\lib\\site-packages\\itchat\\components\\register.py\", line 60, in configured_reply\n    r = replyFn(msg)\n  File \"<ipython-input-58-383072951618>\", line 7, in text_reply\n    if msg.User[\"NickName\"]==u\"趣\":         # response to certain user\nKeyError: 'NickName'\n\n"
     ]
    },
    {
     "name": "stdout",
     "output_type": "stream",
     "text": [
      "对象还没长大呐\n对象还没长大呐\n"
     ]
    },
    {
     "name": "stdout",
     "output_type": "stream",
     "text": [
      "吃完了吗？\n"
     ]
    },
    {
     "name": "stdout",
     "output_type": "stream",
     "text": [
      "吃完了\n"
     ]
    },
    {
     "name": "stdout",
     "output_type": "stream",
     "text": [
      "满足\n"
     ]
    },
    {
     "name": "stdout",
     "output_type": "stream",
     "text": [
      "吃的啥？\n"
     ]
    },
    {
     "name": "stdout",
     "output_type": "stream",
     "text": [
      "好吃的\n"
     ]
    },
    {
     "name": "stdout",
     "output_type": "stream",
     "text": [
      "啥好吃的？\n"
     ]
    }
   ],
   "source": [
    "itchat.run()\n"
   ]
  },
  {
   "cell_type": "code",
   "execution_count": null,
   "metadata": {},
   "outputs": [],
   "source": []
  }
 ],
 "metadata": {
  "kernelspec": {
   "display_name": "Python 2",
   "language": "python",
   "name": "python2"
  },
  "language_info": {
   "codemirror_mode": {
    "name": "ipython",
    "version": 2
   },
   "file_extension": ".py",
   "mimetype": "text/x-python",
   "name": "python",
   "nbconvert_exporter": "python",
   "pygments_lexer": "ipython2",
   "version": "2.7.6"
  }
 },
 "nbformat": 4,
 "nbformat_minor": 0
}
